{
  "cells": [
    {
      "cell_type": "code",
      "execution_count": null,
      "metadata": {
        "id": "p4XwgsoW01GC"
      },
      "outputs": [],
      "source": [
        "# Import libraries\n",
        "import pandas as pd\n",
        "import numpy as np\n",
        "import matplotlib.pyplot as plt\n",
        "import seaborn as sns"
      ]
    },
    {
      "cell_type": "markdown",
      "metadata": {
        "id": "Dp1J0ftqjtyK"
      },
      "source": [
        "# Import Data"
      ]
    },
    {
      "cell_type": "code",
      "execution_count": null,
      "metadata": {
        "colab": {
          "base_uri": "https://localhost:8080/"
        },
        "id": "55ZVnT3Q1kQm",
        "outputId": "4595ea37-1c0c-4237-8c07-c587fcadb005"
      },
      "outputs": [
        {
          "name": "stdout",
          "output_type": "stream",
          "text": [
            "Mounted at /content/drive\n"
          ]
        }
      ],
      "source": [
        "# Import data\n",
        "from google.colab import drive\n",
        "drive.mount('/content/drive')\n",
        "\n",
        "# Option 1: Mount Google Drive\n",
        "# import pandas as pd\n",
        "# X_train = pd.read_excel('/content/drive/MyDrive/Machine Learning/Project/2022_Train_Test/X_train.xlsx')\n",
        "# X_test = pd.read_excel('/content/drive/MyDrive/Machine Learning/Project/2022_Train_Test/X_test.xlsx')\n",
        "# y_train = pd.read_excel('/content/drive/MyDrive/Machine Learning/Project/2022_Train_Test/y_train.xlsx')\n",
        "# y_test = pd.read_excel('/content/drive/MyDrive/Machine Learning/Project/2022_Train_Test/y_test.xlsx')\n",
        "\n",
        "# Option 2: Downloaded Files\n",
        "X_train = pd.read_excel('X_train.xlsx')\n",
        "X_test = pd.read_excel('X_test.xlsx')\n",
        "y_train = pd.read_excel('y_train.xlsx')\n",
        "y_test = pd.read_excel('y_test.xlsx')"
      ]
    },
    {
      "cell_type": "code",
      "execution_count": null,
      "metadata": {
        "colab": {
          "base_uri": "https://localhost:8080/"
        },
        "id": "JqvwKfcg3Cdp",
        "outputId": "c0c2efae-2c54-4177-af2b-326a950f148e"
      },
      "outputs": [
        {
          "name": "stdout",
          "output_type": "stream",
          "text": [
            "X_train Shape: (21024, 5)\n",
            "X_test Shape: (5256, 5)\n",
            "y_train Shape: (21024, 1)\n",
            "y_test Shape: (5256, 1)\n"
          ]
        }
      ],
      "source": [
        "# Shape\n",
        "print('X_train Shape:', X_train.shape)\n",
        "print('X_test Shape:', X_test.shape)\n",
        "print('y_train Shape:', y_train.shape)\n",
        "print('y_test Shape:', y_test.shape)"
      ]
    },
    {
      "cell_type": "markdown",
      "metadata": {
        "id": "aOSa01RcjyCZ"
      },
      "source": [
        "# Create and Test model"
      ]
    },
    {
      "cell_type": "code",
      "execution_count": null,
      "metadata": {
        "id": "lV-4GQfS4DgK"
      },
      "outputs": [],
      "source": [
        "# Import model\n",
        "from sklearn.svm import SVR\n",
        "from sklearn.metrics import mean_squared_error, r2_score"
      ]
    },
    {
      "cell_type": "code",
      "execution_count": null,
      "metadata": {
        "id": "1_1zSdoi43w7"
      },
      "outputs": [],
      "source": [
        "from sklearn.impute import SimpleImputer\n",
        "\n",
        "# Fit the imputer to your training data and transform both training and testing data\n",
        "imputer = SimpleImputer(strategy='mean')\n",
        "\n",
        "X_train = imputer.fit_transform(X_train)\n",
        "X_test = imputer.transform(X_test)"
      ]
    },
    {
      "cell_type": "code",
      "execution_count": null,
      "metadata": {
        "colab": {
          "background_save": true,
          "base_uri": "https://localhost:8080/"
        },
        "id": "suSGBfwW5A7M",
        "outputId": "604e84ca-4c98-4d17-fcce-76db012b2172"
      },
      "outputs": [
        {
          "name": "stderr",
          "output_type": "stream",
          "text": [
            "/usr/local/lib/python3.11/dist-packages/sklearn/utils/validation.py:1408: DataConversionWarning: A column-vector y was passed when a 1d array was expected. Please change the shape of y to (n_samples, ), for example using ravel().\n",
            "  y = column_or_1d(y, warn=True)\n"
          ]
        }
      ],
      "source": [
        "# Implement model on combined data\n",
        "# Initiate model\n",
        "model = SVR(kernel='linear', C=1, epsilon=0.1)\n",
        "# Train model\n",
        "model.fit(X_train, y_train)"
      ]
    },
    {
      "cell_type": "code",
      "execution_count": null,
      "metadata": {
        "id": "5Sro-HHY5Hd2"
      },
      "outputs": [],
      "source": [
        "# Predict data (See training accuracy)\n",
        "y_train_pred = model.predict(X_train)\n",
        "mse_train = mean_squared_error(y_train, y_train_pred)\n",
        "r2_train = r2_score(y_train, y_train_pred)"
      ]
    },
    {
      "cell_type": "code",
      "execution_count": null,
      "metadata": {
        "id": "SI1hvn-o5be1"
      },
      "outputs": [],
      "source": [
        "print('Training MSE:', mse_train)\n",
        "print('Training R^2:', r2_train)"
      ]
    },
    {
      "cell_type": "code",
      "execution_count": null,
      "metadata": {
        "id": "jQQedMVh5g5T"
      },
      "outputs": [],
      "source": [
        "# Predict data (See testing accuracy - this one matters more!)\n",
        "y_test_pred = model.predict(X_test)\n",
        "mse_test = mean_squared_error(y_test, y_test_pred)\n",
        "r2_test = r2_score(y_test, y_test_pred)"
      ]
    },
    {
      "cell_type": "code",
      "execution_count": null,
      "metadata": {
        "id": "LKkeTZMw55BW"
      },
      "outputs": [],
      "source": [
        "print('Testing MSE:', mse_test)\n",
        "print('Testing R^2:', r2_test)\n",
        "\n",
        "# With C = 1, epsilon = 0.1\n",
        "#Testing MSE South: 3.7014322456512994\n",
        "#Testing R^2 South: 0.9976774081484334\n",
        "\n",
        "# With C = 0.1, epsilon = 0.01\n",
        "#Testing MSE South: 4.370076051378616\n",
        "#Testing R^2 South: 0.9972578444358713"
      ]
    },
    {
      "cell_type": "code",
      "execution_count": null,
      "metadata": {
        "id": "aOokkZNE5-bF"
      },
      "outputs": [],
      "source": [
        "# Visualize model's results\n",
        "import matplotlib.pyplot as plt\n",
        "\n",
        "# Scatter plot of actual vs. predicted values\n",
        "plt.figure(figsize=(10, 6))\n",
        "plt.scatter(y_test, y_test_pred, alpha=0.5)\n",
        "plt.plot([y_test.min(), y_test.max()], [y_test.min(), y_test.max()], 'k--', lw=2)  # Diagonal line\n",
        "plt.title('SVM - Combined Data')\n",
        "plt.xlabel('Actual Values')\n",
        "plt.ylabel('Predicted Values')\n",
        "plt.show()"
      ]
    },
    {
      "cell_type": "markdown",
      "metadata": {
        "id": "dP_7i8zFmqc3"
      },
      "source": [
        "# Predicting with 2023 Data"
      ]
    },
    {
      "cell_type": "code",
      "execution_count": null,
      "metadata": {
        "id": "8CEb0_dXmqH4"
      },
      "outputs": [],
      "source": [
        "# Import 2023 data\n",
        "from google.colab import drive\n",
        "drive.mount('/content/drive')\n",
        "\n",
        "# Load from saved location\n",
        "# South\n",
        "import pandas as pd\n",
        "X_train_23 = pd.read_excel('/content/drive/MyDrive/Machine Learning/Project/2023 Data/X_train_23.xlsx')\n",
        "X_test_23 = pd.read_excel('/content/drive/MyDrive/Machine Learning/Project/2023 Data/X_test_23.xlsx')\n",
        "y_train_23 = pd.read_excel('/content/drive/MyDrive/Machine Learning/Project/2023 Data/y_train_23.xlsx')\n",
        "y_test_23 = pd.read_excel('/content/drive/MyDrive/Machine Learning/Project/2023 Data/y_test_23.xlsx')\n",
        "\n",
        "# Extract target variable as 1D arrays\n",
        "y_train_23 = y_train_23['Energy'].values  # fixing added column issue\n",
        "y_test_23 = y_test_23['Energy'].values"
      ]
    },
    {
      "cell_type": "code",
      "execution_count": null,
      "metadata": {
        "id": "VK4HW_9im1ap"
      },
      "outputs": [],
      "source": [
        "# Predict data\n",
        "y_pred_23 = model.predict(X_test_23)  # Use X_test_23 for prediction\n",
        "mse_test_23 = mean_squared_error(y_test_23, y_pred_23)  # Use y_test_23 for evaluation\n",
        "r2_test_23 = r2_score(y_test_23, y_pred_23)\n",
        "print('Test MSE South 2023:', mse_test_23)\n",
        "print('Test R^2 South 2023:', r2_test_23)"
      ]
    },
    {
      "cell_type": "code",
      "execution_count": null,
      "metadata": {
        "id": "e_SzNCdmm4VM"
      },
      "outputs": [],
      "source": [
        "# Visualize model's results\n",
        "import matplotlib.pyplot as plt\n",
        "\n",
        "# Scatter plot of actual vs. predicted values\n",
        "plt.figure(figsize=(10, 6))\n",
        "plt.scatter(y_test_23, y_pred_23, alpha=0.5)\n",
        "plt.plot([y_test_23.min(), y_test_23.max()], [y_test_23.min(), y_test_23.max()], 'k--', lw=2)  # Diagonal line\n",
        "plt.title('SVM - Combined Data for 2023')\n",
        "plt.xlabel('Actual Values')\n",
        "plt.ylabel('Predicted Values')\n",
        "plt.show()"
      ]
    },
    {
      "cell_type": "markdown",
      "metadata": {
        "id": "XS93tESKmmqD"
      },
      "source": [
        "# Plotting Energy vs Hour"
      ]
    },
    {
      "cell_type": "code",
      "execution_count": null,
      "metadata": {
        "id": "Rm-IHwhcmjRq"
      },
      "outputs": [],
      "source": [
        "# Plotting Energy vs Hour\n",
        "import matplotlib.pyplot as plt\n",
        "import pandas as pd\n",
        "\n",
        "# Assuming you have your actual and predicted values in y_test_23 and y_pred_23 respectively\n",
        "# and a corresponding DataFrame X_test_23 with an 'Hour' column\n",
        "\n",
        "# 1. Create a DataFrame to hold the data\n",
        "results_df = pd.DataFrame({'Hour': X_test_23['Hour'], 'Actual': y_test_23, 'Predicted': y_pred_23})\n",
        "\n",
        "# 2. Sort by hour\n",
        "results_df = results_df.sort_values(by=['Hour']) # This will sort the dataframe based on hour which will help in plotting\n",
        "\n",
        "# 3. Plot the actual and predicted values\n",
        "plt.figure(figsize=(12, 6))\n",
        "plt.plot(results_df['Hour'], results_df['Actual'], label='Actual', marker='o')\n",
        "plt.plot(results_df['Hour'], results_df['Predicted'], label='Predicted', marker='x')\n",
        "plt.xlabel('Hour')\n",
        "plt.ylabel('Solar Energy')\n",
        "plt.title('SVM - Energy Prediction 2023')\n",
        "plt.legend()\n",
        "plt.grid(True)\n",
        "plt.xticks(range(24))  # Set x-axis ticks to represent hours 0-23\n",
        "plt.show()"
      ]
    },
    {
      "cell_type": "markdown",
      "metadata": {
        "id": "AMw7SDsYBb3o"
      },
      "source": [
        "# Tune to find best parameters"
      ]
    },
    {
      "cell_type": "code",
      "execution_count": null,
      "metadata": {
        "id": "fXCP01dJmePB"
      },
      "outputs": [],
      "source": []
    },
    {
      "cell_type": "code",
      "execution_count": null,
      "metadata": {
        "id": "RzE59MDOBfGq"
      },
      "outputs": [],
      "source": [
        "#from sklearn.model_selection import GridSearchCV\n",
        "\n",
        "#param_grid = {'C': [1, 10, 100], # Regularization parameter\n",
        "              #'epsilon': [0.01, 0.1, 1]}\n",
        "\n",
        "# Create and train GridSearch object\n",
        "#grid_search = GridSearchCV(SVR(kernel='linear'), param_grid, cv=5, scoring='neg_mean_squared_error')\n",
        "#grid_search.fit(X_train, y_train)"
      ]
    },
    {
      "cell_type": "code",
      "execution_count": null,
      "metadata": {
        "id": "yXqbEQj4Bxm3"
      },
      "outputs": [],
      "source": [
        "# Get best hyperparameters\n",
        "#best_params = grid_search.best_params_\n",
        "#print(\"Best Hyperparameters:\", best_params)\n",
        "#best_model = grid_search.best_estimator_"
      ]
    },
    {
      "cell_type": "code",
      "execution_count": null,
      "metadata": {
        "id": "misZMFXkB4lQ"
      },
      "outputs": [],
      "source": [
        "#y_pred = best_model.predict(X_test)\n",
        "#mse = mean_squared_error(y_test, y_pred)\n",
        "#r2 = r2_score(y_test, y_pred)\n",
        "#print(f\"Mean Squared Error: {mse}\")\n",
        "#print(f\"R-squared: {r2}\")"
      ]
    }
  ],
  "metadata": {
    "colab": {
      "provenance": []
    },
    "kernelspec": {
      "display_name": "Python 3",
      "name": "python3"
    },
    "language_info": {
      "name": "python"
    }
  },
  "nbformat": 4,
  "nbformat_minor": 0
}