{
  "nbformat": 4,
  "nbformat_minor": 0,
  "metadata": {
    "colab": {
      "provenance": []
    },
    "kernelspec": {
      "name": "python3",
      "display_name": "Python 3"
    },
    "language_info": {
      "name": "python"
    }
  },
  "cells": [
    {
      "cell_type": "code",
      "execution_count": 1,
      "metadata": {
        "id": "exAnc4qJ2RAH"
      },
      "outputs": [],
      "source": [
        "# Import basic libraries\n",
        "import pandas as pd\n",
        "import numpy as np\n",
        "import matplotlib.pyplot as plt"
      ]
    },
    {
      "cell_type": "markdown",
      "source": [
        "# Combined Data"
      ],
      "metadata": {
        "id": "5VytWN684V7i"
      }
    },
    {
      "cell_type": "code",
      "source": [
        "# Combined data file\n",
        "# Import data\n",
        "# Option 1: Mount Google Drive\n",
        "# from google.colab import drive\n",
        "# drive.mount('/content/drive')\n",
        "\n",
        "# # All Data\n",
        "# file_path = '/content/drive/MyDrive/Machine Learning/Project/Correct_MPP_Data_Combined.xlsx'\n",
        "# df_all = pd.read_excel(file_path)\n",
        "# # Drop data and time column\n",
        "# df_all = df_all.drop(['Date', 'Time'], axis=1)\n",
        "\n",
        "# Option 2: Downloaded Files\n",
        "df_all = pd.read_excel('Correct_MPP_Data_Combined.xlsx')"
      ],
      "metadata": {
        "id": "btUk-zD-3cua"
      },
      "execution_count": 2,
      "outputs": []
    },
    {
      "cell_type": "code",
      "source": [
        "#df_all.head()"
      ],
      "metadata": {
        "id": "suuMTIuk4BBE"
      },
      "execution_count": 3,
      "outputs": []
    },
    {
      "cell_type": "code",
      "source": [
        "# Split data\n",
        "from sklearn.model_selection import train_test_split\n",
        "\n",
        "# Split data into features (X) and target variable (y)\n",
        "X = df_all.drop('Energy', axis=1)\n",
        "y = df_all['Energy']\n",
        "\n",
        "# Split data into training and testing sets\n",
        "X_train, X_test, y_train, y_test = train_test_split(X, y, test_size=0.2, random_state=42)"
      ],
      "metadata": {
        "id": "1XRf--kG38PH"
      },
      "execution_count": 4,
      "outputs": []
    },
    {
      "cell_type": "code",
      "source": [
        "# Save training data to XLSX files\n",
        "X_train.to_excel('X_train.xlsx', index=False)\n",
        "y_train.to_excel('y_train.xlsx', index=False)\n",
        "\n",
        "# Save testing data to XLSX files\n",
        "X_test.to_excel('X_test.xlsx', index=False)\n",
        "y_test.to_excel('y_test.xlsx', index=False)"
      ],
      "metadata": {
        "id": "ObND3YJE4LsK"
      },
      "execution_count": 5,
      "outputs": []
    },
    {
      "cell_type": "markdown",
      "source": [
        "# Individual Data"
      ],
      "metadata": {
        "id": "bFd5LjULanXq"
      }
    },
    {
      "cell_type": "code",
      "source": [
        "# Import data\n",
        "# Option 1: Mount Drive\n",
        "#from google.colab import drive\n",
        "# drive.mount('/content/drive')\n",
        "\n",
        "# # South Data (azimuth = 180)\n",
        "# file_path1 = '/content/drive/MyDrive/Machine Learning/Project/MPP_data_ALB_south.xlsx'\n",
        "# df_south = pd.read_excel(file_path1)\n",
        "# # Drop first column\n",
        "# df_south = df_south.drop(df_south.columns[0], axis=1)\n",
        "# df_south = df_south.drop(df_south.columns[1], axis=1)\n",
        "\n",
        "# df_south = df_south.drop('Date', axis=1)\n",
        "\n",
        "\n",
        "# # East Data (azimuth = 90)\n",
        "# file_path2 = '/content/drive/MyDrive/Machine Learning/Project/MPP_data_ALB_East.xlsx'\n",
        "# df_east = pd.read_excel(file_path2)\n",
        "# # Drop first column\n",
        "# df_east = df_east.drop(df_east.columns[0], axis=1)\n",
        "# df_east = df_east.drop(df_east.columns[1], axis=1)\n",
        "\n",
        "# df_east = df_east.drop('Date', axis=1)\n",
        "\n",
        "# # West Data (azimuth = 270)\n",
        "# file_path3 = '/content/drive/MyDrive/Machine Learning/Project/MPP_data_ALB_West.xlsx'\n",
        "# df_west = pd.read_excel(file_path3)\n",
        "# # Drop first column\n",
        "# df_west = df_west.drop(df_west.columns[0], axis=1)\n",
        "# df_west = df_west.drop(df_west.columns[1], axis=1)\n",
        "\n",
        "# df_west = df_west.drop('Date', axis=1)\n",
        "\n",
        "# Option 2: Downloaded Files\n",
        "# South\n",
        "df_south = pd.read_excel('MPP_data_ALB_south.xlsx')\n",
        "# Drop first column\n",
        "df_south = df_south.drop(df_south.columns[0], axis=1)\n",
        "df_south = df_south.drop(df_south.columns[1], axis=1)\n",
        "\n",
        "# East\n",
        "df_east = pd.read_excel('MPP_data_ALB_East.xlsx')\n",
        "# Drop first column\n",
        "df_east = df_east.drop(df_east.columns[0], axis=1)\n",
        "df_east = df_east.drop(df_east.columns[1], axis=1)\n",
        "\n",
        "df_east = df_east.drop('Date', axis=1)\n",
        "\n",
        "\n",
        "# West\n",
        "df_west= pd.read_excel('MPP_data_ALB_West.xlsx')\n",
        "# Drop first column\n",
        "df_west = df_west.drop(df_west.columns[0], axis=1)\n",
        "df_west = df_west.drop(df_west.columns[1], axis=1)\n",
        "\n",
        "df_west = df_west.drop('Date', axis=1)"
      ],
      "metadata": {
        "id": "LOhlNPdi4OjP"
      },
      "execution_count": 9,
      "outputs": []
    },
    {
      "cell_type": "code",
      "source": [
        "# Split data\n",
        "from sklearn.model_selection import train_test_split\n",
        "\n",
        "# South\n",
        "X_south = df_south.drop('Energy', axis=1)\n",
        "y_south = df_south['Energy']\n",
        "\n",
        "# Remove rows with NaN values in the target variable *before* splitting\n",
        "south_data = pd.concat([X_south, y_south], axis=1).dropna()\n",
        "# Original Features - Only 3 (poa, temp, wind)\n",
        "#X_south = south_data.drop(['Energy','Azimuth','Hour'], axis=1)\n",
        "# Update X_south to reflect dropped rows and desired features\n",
        "#X_south = south_data[['poa_direct', 'Wind Speed', 'Temp']]  # Select desired features\n",
        "#y_south = south_data['Energy']\n",
        "\n",
        "# New Features - 5 (poa, temp, wind, azimuth, hour)\n",
        "X_south = south_data.drop(['Energy'], axis=1)\n",
        "y_south = south_data['Energy']\n",
        "# Update X_south to reflect dropped rows and desired features\n",
        "X_south = south_data[['poa_direct', 'Wind Speed', 'Temperature', 'Azimuth','Hour']]  # Select desired features\n",
        "y_south = south_data['Energy']\n",
        "\n",
        "X_train_S, X_test_S, y_train_S, y_test_S = train_test_split(X_south, y_south, test_size=0.3, random_state=42) # South split\n",
        "\n",
        "# East\n",
        "X_east = df_east.drop('Energy', axis=1)\n",
        "y_east = df_east['Energy']\n",
        "\n",
        "# Remove rows with NaN values in the target variable *before* splitting\n",
        "east_data = pd.concat([X_east, y_east], axis=1).dropna()\n",
        "# Original Features - Only 3 (poa, temp, wind)\n",
        "#X_east = east_data.drop(['Energy','Azimuth','Hour'], axis=1)\n",
        "# Update X_east to reflect dropped rows and desired features\n",
        "#X_east = east_data[['poa_direct', 'Wind Speed', 'Temp']]  # Select desired features\n",
        "#y_east = east_data['Energy']\n",
        "\n",
        "# New Features - 5 (poa, temp, wind, azimuth, hour)\n",
        "X_east = df_east.drop('Energy', axis=1)\n",
        "y_east = df_east['Energy']\n",
        "\n",
        "# Update X_east to reflect dropped rows and desired features\n",
        "X_east = east_data[['poa_direct', 'Wind Speed', 'Temperature', 'Azimuth','Hour']]  # Select desired features\n",
        "y_east = east_data['Energy']\n",
        "\n",
        "X_train_E, X_test_E, y_train_E, y_test_E = train_test_split(X_east, y_east, test_size=0.3, random_state=42) # East split\n",
        "\n",
        "# West\n",
        "X_west = df_west.drop('Energy', axis=1)\n",
        "y_west = df_west['Energy']\n",
        "\n",
        "# Remove rows with NaN values in the target variable *before* splitting\n",
        "west_data = pd.concat([X_west, y_west], axis=1).dropna()\n",
        "# Original Features - Only 3 (poa, temp, wind)\n",
        "#X_west = east_data.drop(['Energy','Azimuth','Hour'], axis=1)\n",
        "# Update X_west to reflect dropped rows and desired features\n",
        "#X_west = west_data[['poa_direct', 'Wind Speed', 'Temp']]  # Select desired features\n",
        "#y_west = west_data['Energy']\n",
        "\n",
        "X_west = df_west.drop('Energy', axis=1)\n",
        "y_west = df_west['Energy']\n",
        "\n",
        "# Update X_east to reflect dropped rows and desired features\n",
        "X_west = west_data[['poa_direct', 'Wind Speed', 'Temperature', 'Azimuth','Hour']]  # Select desired features\n",
        "y_west = west_data['Energy']\n",
        "\n",
        "X_train_W, X_test_W, y_train_W, y_test_W = train_test_split(X_west, y_west, test_size=0.3, random_state=42) # West split"
      ],
      "metadata": {
        "id": "4LiwzPONa6ko"
      },
      "execution_count": 10,
      "outputs": []
    },
    {
      "cell_type": "code",
      "source": [
        "# Save South data\n",
        "# Save training data to XLSX files\n",
        "X_train_S.to_excel('X_train_S.xlsx', index=False)\n",
        "y_train_S.to_excel('y_train_S.xlsx', index=False)\n",
        "\n",
        "# Save testing data to XLSX files\n",
        "X_test_S.to_excel('X_test_S.xlsx', index=False)\n",
        "y_test_S.to_excel('y_test_S.xlsx', index=False)"
      ],
      "metadata": {
        "id": "OTNwj27nbFsi"
      },
      "execution_count": 11,
      "outputs": []
    },
    {
      "cell_type": "code",
      "source": [
        "# Save East data\n",
        "# Save training data to XLSX files\n",
        "X_train_E.to_excel('X_train_E.xlsx', index=False)\n",
        "y_train_E.to_excel('y_train_E.xlsx', index=False)\n",
        "\n",
        "# Save testing data to XLSX files\n",
        "X_test_E.to_excel('X_test_E.xlsx', index=False)\n",
        "y_test_E.to_excel('y_test_E.xlsx', index=False)"
      ],
      "metadata": {
        "id": "n07g9WJbb5Bz"
      },
      "execution_count": 12,
      "outputs": []
    },
    {
      "cell_type": "code",
      "source": [
        "# Save West data\n",
        "# Save training data to XLSX files\n",
        "X_train_W.to_excel('X_train_W.xlsx', index=False)\n",
        "y_train_W.to_excel('y_train_W.xlsx', index=False)\n",
        "\n",
        "# Save testing data to XLSX files\n",
        "X_test_W.to_excel('X_test_W.xlsx', index=False)\n",
        "y_test_W.to_excel('y_test_W.xlsx', index=False)"
      ],
      "metadata": {
        "id": "0Fvk7jEIcA9-"
      },
      "execution_count": 13,
      "outputs": []
    },
    {
      "cell_type": "code",
      "source": [
        "# Data shape\n",
        "# South\n",
        "print('X_train South Shape:', X_train_S.shape)\n",
        "print('X_test South Shape:', X_test_S.shape)\n",
        "print('y_train South Shape:', y_train_S.shape)\n",
        "print('y_test South Shape:', y_test_S.shape)\n",
        "print()\n",
        "# East\n",
        "print('X_train East Shape:', X_train_E.shape)\n",
        "print('X_test East Shape:', X_test_E.shape)\n",
        "print('y_train East Shape:', y_train_E.shape)\n",
        "print('y_test East Shape:', y_test_E.shape)\n",
        "print()\n",
        "# West\n",
        "print('X_train West Shape:', X_train_W.shape)\n",
        "print('X_test West Shape:', X_test_W.shape)\n",
        "print('y_train West Shape:', y_train_W.shape)\n",
        "print('y_test West Shape:', y_test_W.shape)"
      ],
      "metadata": {
        "colab": {
          "base_uri": "https://localhost:8080/"
        },
        "id": "eqYGm_pAbArR",
        "outputId": "df5ccc99-8666-473c-b745-24216aaa70c5"
      },
      "execution_count": 14,
      "outputs": [
        {
          "output_type": "stream",
          "name": "stdout",
          "text": [
            "X_train South Shape: (6132, 5)\n",
            "X_test South Shape: (2628, 5)\n",
            "y_train South Shape: (6132,)\n",
            "y_test South Shape: (2628,)\n",
            "\n",
            "X_train East Shape: (6132, 5)\n",
            "X_test East Shape: (2628, 5)\n",
            "y_train East Shape: (6132,)\n",
            "y_test East Shape: (2628,)\n",
            "\n",
            "X_train West Shape: (6132, 5)\n",
            "X_test West Shape: (2628, 5)\n",
            "y_train West Shape: (6132,)\n",
            "y_test West Shape: (2628,)\n"
          ]
        }
      ]
    },
    {
      "cell_type": "code",
      "source": [
        "df_south.columns"
      ],
      "metadata": {
        "id": "2OwwtqFJ75oE",
        "outputId": "81988601-8247-405d-e2b9-50c5ca71014d",
        "colab": {
          "base_uri": "https://localhost:8080/"
        }
      },
      "execution_count": 15,
      "outputs": [
        {
          "output_type": "execute_result",
          "data": {
            "text/plain": [
              "Index(['Date', 'Energy', 'poa_direct', 'Wind Speed', 'Temperature', 'Azimuth',\n",
              "       'Hour'],\n",
              "      dtype='object')"
            ]
          },
          "metadata": {},
          "execution_count": 15
        }
      ]
    },
    {
      "cell_type": "code",
      "source": [],
      "metadata": {
        "id": "ORFuTJew77iZ"
      },
      "execution_count": 15,
      "outputs": []
    }
  ]
}